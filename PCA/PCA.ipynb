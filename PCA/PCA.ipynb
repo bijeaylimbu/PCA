{
  "nbformat": 4,
  "nbformat_minor": 0,
  "metadata": {
    "kernelspec": {
      "display_name": "Python 3",
      "language": "python",
      "name": "python3"
    },
    "language_info": {
      "codemirror_mode": {
        "name": "ipython",
        "version": 3
      },
      "file_extension": ".py",
      "mimetype": "text/x-python",
      "name": "python",
      "nbconvert_exporter": "python",
      "pygments_lexer": "ipython3",
      "version": "3.7.6"
    },
    "colab": {
      "name": "PCA.ipynb",
      "provenance": [],
      "collapsed_sections": [],
      "toc_visible": true
    }
  },
  "cells": [
    {
      "cell_type": "markdown",
      "metadata": {
        "id": "PdpE2scD-_ky",
        "colab_type": "text"
      },
      "source": [
        "## What is \"Dimensionality Reduction Problem\"? Why is it necessary in Machine Learning?"
      ]
    },
    {
      "cell_type": "markdown",
      "metadata": {
        "id": "DCxZoLIE-_kz",
        "colab_type": "text"
      },
      "source": [
        "Ans: a dataset can have maximum numbers of features and the more numbers of features the more it will be difficult to visualize and analysis for further proces,so to reduce the dimension, dimensional reduction is used and it reduce dimension without losing much information.\n",
        "while making model in machine learning for prediction or classification a model may have many features and some features may be overlap so we can remove overlaping features because if a dataset have lots of features it will be difficult to get accuracy model and difficult for visualization so we need to reduce the dimensions and for this purpose dimensionality reduction come into action for reducing dimensional with losing important feature."
      ]
    },
    {
      "cell_type": "markdown",
      "metadata": {
        "id": "mf-evos2-_k0",
        "colab_type": "text"
      },
      "source": [
        "## What is PCA? Discuss few applications in Machine Learning... "
      ]
    },
    {
      "cell_type": "markdown",
      "metadata": {
        "id": "ZisTeY_Y-_k0",
        "colab_type": "text"
      },
      "source": [
        "Ans: Principal component analysis is a technique used for dimensional reduction that enable to identify the corelation and pattern in the dataset which transform the dataset into lower dimension dataset without losing any important infromation or feature from the dataset.Principal component analysis doesnt perform any feature elimination rather it extract the important feature from the dataset and create lesser number of principal components. to perform principal components it use orthogonal transformation to convert the set of correlation variable into linearly uncorrelation variable.\n",
        "the steps in principal component analysis are\n",
        "1. starndardization: standardization is a technique which scale the data in such a ways that all the value of the dataset lies with in the small range.it is calculated by subtraction each value of variable with the mean and dividing by the standard deviation.\n",
        "2. Covarience matrix computing: a covarience matrix shows the relation between different variable in the dataset. it is important to find variable which are heavily dependent because it may contain redundent information which may impact the performance of the model.if the varience is negative they are indirectly proportional but if the varience is positive it has directly proportional.\n",
        "3. calculating the eigenvalue and eigenvector:for computing principal component of the data we need to calculate eigenvector and eigenvalue of the coviarience matrix. eigenvector is used to calculate and identify the principal commponents and eigenvalue represent the scalar representation of the eigenvector.\n",
        "4. Computing the principal components:once the eigenvalue and eigenvector is been calculated we need to order in descending order and the eigenvector having highest eigenvalue we be hightest principal component and the least value princpal component can be removed to decrease dimensionality.\n",
        "5. reducing the dimension of the dataset:the final step is to rearrange the original dataset with the principal components having significant infromation.for replacing we just need to multiply transpose of the original dataset with the teanspose feature vector.\n",
        "\n",
        "Principal componennt analysis is used in machine learning to reduce the dimensional of feature vector of the dataset so that it will be easy for visualization and get clear idea of what is the next step.  principal component used for dimensional reduction on many appliation like image processing , computer vision as well as in different field like data mining, finance etc where the dimension of the dataset is very high."
      ]
    },
    {
      "cell_type": "markdown",
      "metadata": {
        "id": "FjhB2yeo-_k1",
        "colab_type": "text"
      },
      "source": [
        "## Write Short notes on the following topics:<br>\n",
        "    a) Variance & Covariance\n",
        "    Ans: Variance tells us how much quantity varies with respect to its mean.we only know magnitude through variance .it is the spread of the data around the mean value. varience can used to measure for measuring the probability of any future event.\n",
        "    covariance shows the direction in which the two quantities vary with each other.Suppose two variable have positive covariance then they increase or decrease together. covarience measures the directional relationship between two variables. a positive covarience means the they move in the same direction where as negative covarience means they move to opposite direction.\n",
        "    b) Eigenvalues & Eigenvectors\n",
        "    Ans:An eigenvector of an matrix A is a nonzero vector x such that for some scalar λ. A scalar λ is called an eigenvalue of A if there is a nontrivial solution x of Ax = λx such an x is called an eigenvector corresponding to λ.Eigenvalues are coefficients applied to eigenvectors that give the vectors their length or magnitude\n",
        "    c) Eigen-value decomposition\n",
        "    Ans: eigenvector decomposition plays an important role in mathematics which is a part of the factorization technique which aim to decompose (sometimes complex) mathematical objects as a product of several factors, usually smaller or simpler objects of the same kind. In this case, a matrix is decomposed into a more natural basis.\n",
        "    d) Singular-value decompsition\n",
        "    Ans: Singular value decomposition is a method of decomposing a matrix into three other matrices.The singular value decomposition of a matrix A is the factorization of A into the product of three matrices A = UDV T where the columns of U and V are orthonormal and the matrix D is diagonal with positive real entries. The SVD is useful in many tasks.\n",
        "    e) EVD vs SVD\n",
        "    Ans:The SVD arises from asking in which directions a linear transformation has the greatest impact. The eigendecomposition arises from asking in which directions a quadratic form has the greatest impact. \n",
        "    f) Orthogonal Projections\n",
        "    Ans: a two-dimensional graphic representation of an object in which the projecting lines are at right angles to the plane of the projection called orthogonal projection\n",
        "    g) PCA vs LDA\n",
        "    Ans: LDA is supervised where as PCA is supervised.\n",
        "    PCA is a technique that finds direction of maximal variance where as LDA is a technique that cares about the class separation "
      ]
    },
    {
      "cell_type": "markdown",
      "metadata": {
        "id": "E6aKVIWk-_k1",
        "colab_type": "text"
      },
      "source": [
        "# Implementation of PCA"
      ]
    },
    {
      "cell_type": "markdown",
      "metadata": {
        "id": "9VcL6NsE-_k2",
        "colab_type": "text"
      },
      "source": [
        "## Some Basic Theory"
      ]
    },
    {
      "cell_type": "markdown",
      "metadata": {
        "id": "ZRDZwvE0-_k3",
        "colab_type": "text"
      },
      "source": [
        "## Orthogonal Projections"
      ]
    },
    {
      "cell_type": "markdown",
      "metadata": {
        "id": "1ax1i6qg-_k3",
        "colab_type": "text"
      },
      "source": [
        "projection of a vector $\\boldsymbol x$ onto a 1-dimensional subspace $U$ with basis vector $\\boldsymbol b$ we have\n",
        "\n",
        "$${\\pi_U}(\\boldsymbol x) = \\frac{\\boldsymbol b\\boldsymbol b^T}{{\\lVert\\boldsymbol  b \\rVert}^2}\\boldsymbol x $$\n",
        "\n",
        "And for the general projection onto an M-dimensional subspace $U$ with basis vectors $\\boldsymbol b_1,\\dotsc, \\boldsymbol b_M$ we have\n",
        "\n",
        "$${\\pi_U}(\\boldsymbol x) = \\boldsymbol B(\\boldsymbol B^T\\boldsymbol B)^{-1}\\boldsymbol B^T\\boldsymbol x $$\n",
        "\n",
        "where \n",
        "\n",
        "$$\\boldsymbol B = [\\boldsymbol b_1,...,\\boldsymbol b_M]$$"
      ]
    },
    {
      "cell_type": "markdown",
      "metadata": {
        "id": "ybOAcwx2h-ks",
        "colab_type": "text"
      },
      "source": [
        "## projection of a vector  x  onto a 1-dimensional subspace  U  with basis vector  b  we have"
      ]
    },
    {
      "cell_type": "code",
      "metadata": {
        "id": "GR9mi0OCK26Y",
        "colab_type": "code",
        "colab": {}
      },
      "source": [
        "from fractions import Fraction as f\n",
        "def projection_matrix_1d(b):\n",
        "   n_norm = np.sqrt(sum(b**2))  \n",
        " \n",
        "   proj_of_x_on_u = round(np.dot(x.transpose(),b))/round(n_norm**2)\n",
        " \n",
        "\n",
        "   return proj_of_x_on_u;\n",
        "    "
      ],
      "execution_count": null,
      "outputs": []
    },
    {
      "cell_type": "markdown",
      "metadata": {
        "id": "MQUsQ3xkc3ko",
        "colab_type": "text"
      },
      "source": [
        "finding the projection of x=[2,1] on b=[1,2] "
      ]
    },
    {
      "cell_type": "code",
      "metadata": {
        "id": "rGH2DEWuTPCE",
        "colab_type": "code",
        "colab": {
          "base_uri": "https://localhost:8080/",
          "height": 34
        },
        "outputId": "088e0e97-f083-46cf-b0ee-1488fe0b6ce9"
      },
      "source": [
        "\n",
        "import numpy as np\n",
        "b=np.array([2,1])\n",
        "x=np.array([1,2])\n",
        "\n",
        "print(projection_matrix_1d(b),b)\n"
      ],
      "execution_count": null,
      "outputs": [
        {
          "output_type": "stream",
          "text": [
            "0.8 [2 1]\n"
          ],
          "name": "stdout"
        }
      ]
    },
    {
      "cell_type": "code",
      "metadata": {
        "id": "KmSrQuD90TxD",
        "colab_type": "code",
        "colab": {}
      },
      "source": [
        ""
      ],
      "execution_count": null,
      "outputs": []
    },
    {
      "cell_type": "markdown",
      "metadata": {
        "id": "znS5EyamiEjm",
        "colab_type": "text"
      },
      "source": [
        "## the general projection onto an M-dimensional subspace  U  with basis vectors  b1,…,bM  we have"
      ]
    },
    {
      "cell_type": "code",
      "metadata": {
        "id": "Bb4q5oIpRI1C",
        "colab_type": "code",
        "colab": {}
      },
      "source": [
        ""
      ],
      "execution_count": null,
      "outputs": []
    },
    {
      "cell_type": "code",
      "metadata": {
        "id": "OcsXE2ElLMQP",
        "colab_type": "code",
        "colab": {}
      },
      "source": [
        "import numpy as np\n",
        "from numpy.linalg import matrix_power\n",
        "def project_general(x):\n",
        "  b1=np.array([1,2,0])\n",
        "  b2=np.array([1,1,0])\n",
        "  B=np.stack((b1,b2),axis=1)\n",
        "  B_transpose_x=np.dot((B.transpose()), x)\n",
        "  B_transpose_B_inverse=np.dot((B.transpose()),B)\n",
        "  q=matrix_power(B_transpose_B_inverse, -1)\n",
        "\n",
        "  lamda=np.dot(q,B_transpose_x)\n",
        "  w=lamda.item(0)\n",
        "  u=lamda.item(1)\n",
        "  projection_u_on_x=w*b1+u*b2\n",
        "  return projection_u_on_x\n",
        "\n",
        "\n",
        "    "
      ],
      "execution_count": null,
      "outputs": []
    },
    {
      "cell_type": "markdown",
      "metadata": {
        "id": "0l6qnMUEeGeY",
        "colab_type": "text"
      },
      "source": [
        "finding projection of x=[2,1,1] on two basis sub vector b1=[1,2,0] and b2=[1,1,0]"
      ]
    },
    {
      "cell_type": "code",
      "metadata": {
        "id": "W74Oc5Xttf2P",
        "colab_type": "code",
        "colab": {
          "base_uri": "https://localhost:8080/",
          "height": 34
        },
        "outputId": "28f5f695-e364-4d2d-8b84-75832235fd63"
      },
      "source": [
        "x=np.array([2,1,1])\n",
        "project_general(x)"
      ],
      "execution_count": null,
      "outputs": [
        {
          "output_type": "execute_result",
          "data": {
            "text/plain": [
              "array([2., 1., 0.])"
            ]
          },
          "metadata": {
            "tags": []
          },
          "execution_count": 11
        }
      ]
    },
    {
      "cell_type": "code",
      "metadata": {
        "id": "J8mfdxiWtgGu",
        "colab_type": "code",
        "colab": {}
      },
      "source": [
        ""
      ],
      "execution_count": null,
      "outputs": []
    },
    {
      "cell_type": "code",
      "metadata": {
        "id": "qVZTIx2Ztf0b",
        "colab_type": "code",
        "colab": {}
      },
      "source": [
        ""
      ],
      "execution_count": null,
      "outputs": []
    },
    {
      "cell_type": "markdown",
      "metadata": {
        "id": "o0n7ZoUk-_k9",
        "colab_type": "text"
      },
      "source": [
        "Assume that we are performing PCA on\n",
        "some dataset $\\boldsymbol X$ for $M$ principal components. \n",
        "We then need to perform the following steps, which we break into parts:\n",
        "\n",
        "1. Data normalization (`normalize`).\n",
        "2. Find eigenvalues and corresponding eigenvectors for the covariance matrix $S$.\n",
        "   Sort by the largest eigenvalues and the corresponding eigenvectors (`eig`).\n",
        "\n",
        "After these steps, we can then compute the projection and reconstruction of the data onto the spaced spanned by the top $n$ eigenvectors."
      ]
    },
    {
      "cell_type": "markdown",
      "metadata": {
        "id": "hrVa4XvE-_k9",
        "colab_type": "text"
      },
      "source": [
        "## Why normalization is necessary in PCA?"
      ]
    },
    {
      "cell_type": "markdown",
      "metadata": {
        "id": "Px63ZSA2-_k-",
        "colab_type": "text"
      },
      "source": [
        "$$\\bar X =  \\frac{X - \\mu}{\\sigma}$$\n",
        "Ans:The PCA calculates a new projection of your data set. And the new axis are based on the standard deviation of your variables. So a variable with a high standard deviation will have a higher weight for the calculation of axis than a variable with a low standard deviation. If you normalize your data, all variables have the same standard deviation, thus all variables have the same weight and your PCA calculates relevant axis.\n",
        "As different variables in your data set may be having different units of measurement. Eg: one may be cost, other production in numbers, another percentage interest in purchase etc. It is necessary to normalise data to get a reasonable covarianc analysis among all such variables. Another example to appreciate the normalisation is analysis of students data in a class room may include...height and weight and establishing a correlation between them.\n"
      ]
    },
    {
      "cell_type": "markdown",
      "metadata": {
        "id": "6ttOWPce-_lC",
        "colab_type": "text"
      },
      "source": [
        "Now, Lets use this idea using numpy :)"
      ]
    },
    {
      "cell_type": "markdown",
      "metadata": {
        "id": "ZLbQDRRl-_lC",
        "colab_type": "text"
      },
      "source": [
        "## Warning: Do not import other libraries ....!"
      ]
    },
    {
      "cell_type": "markdown",
      "metadata": {
        "id": "QuV4bEZ9-_lD",
        "colab_type": "text"
      },
      "source": [
        "## Step 1: Load the data & required libraries"
      ]
    },
    {
      "cell_type": "code",
      "metadata": {
        "id": "beqKeGAI-_lH",
        "colab_type": "code",
        "colab": {}
      },
      "source": [
        "%matplotlib inline\n",
        "import pandas as pd\n",
        "import matplotlib.pyplot as plt\n",
        "import numpy as np\n",
        "\n",
        "import seaborn as sns"
      ],
      "execution_count": null,
      "outputs": []
    },
    {
      "cell_type": "code",
      "metadata": {
        "id": "36M_tY0C-_lK",
        "colab_type": "code",
        "colab": {}
      },
      "source": [
        "plt.style.use(\"ggplot\")\n",
        "plt.rcParams[\"figure.figsize\"] = (12, 8)"
      ],
      "execution_count": null,
      "outputs": []
    },
    {
      "cell_type": "code",
      "metadata": {
        "id": "2FLEQX_P5JBh",
        "colab_type": "code",
        "colab": {}
      },
      "source": [
        ""
      ],
      "execution_count": null,
      "outputs": []
    },
    {
      "cell_type": "code",
      "metadata": {
        "id": "kDED6JdP-_lQ",
        "colab_type": "code",
        "colab": {
          "base_uri": "https://localhost:8080/",
          "height": 198
        },
        "outputId": "9ec716b2-8dd7-4872-b430-f7a632b23816"
      },
      "source": [
        "#load the given iris data here:\n",
        "\n",
        "import pandas as pd\n",
        "iris=pd.read_csv(\"iris.csv\")\n",
        "iris.dropna(how=\"all\", inplace=True) \n",
        "iris.head()\n",
        "# Class 0 is sepal length, Class 1 is sepal width\n",
        "# Class 2 is petal length, Class 3 is petal width"
      ],
      "execution_count": null,
      "outputs": [
        {
          "output_type": "execute_result",
          "data": {
            "text/html": [
              "<div>\n",
              "<style scoped>\n",
              "    .dataframe tbody tr th:only-of-type {\n",
              "        vertical-align: middle;\n",
              "    }\n",
              "\n",
              "    .dataframe tbody tr th {\n",
              "        vertical-align: top;\n",
              "    }\n",
              "\n",
              "    .dataframe thead th {\n",
              "        text-align: right;\n",
              "    }\n",
              "</style>\n",
              "<table border=\"1\" class=\"dataframe\">\n",
              "  <thead>\n",
              "    <tr style=\"text-align: right;\">\n",
              "      <th></th>\n",
              "      <th>5.1</th>\n",
              "      <th>3.5</th>\n",
              "      <th>1.4</th>\n",
              "      <th>0.2</th>\n",
              "      <th>Iris-setosa</th>\n",
              "    </tr>\n",
              "  </thead>\n",
              "  <tbody>\n",
              "    <tr>\n",
              "      <th>0</th>\n",
              "      <td>4.9</td>\n",
              "      <td>3.0</td>\n",
              "      <td>1.4</td>\n",
              "      <td>0.2</td>\n",
              "      <td>Iris-setosa</td>\n",
              "    </tr>\n",
              "    <tr>\n",
              "      <th>1</th>\n",
              "      <td>4.7</td>\n",
              "      <td>3.2</td>\n",
              "      <td>1.3</td>\n",
              "      <td>0.2</td>\n",
              "      <td>Iris-setosa</td>\n",
              "    </tr>\n",
              "    <tr>\n",
              "      <th>2</th>\n",
              "      <td>4.6</td>\n",
              "      <td>3.1</td>\n",
              "      <td>1.5</td>\n",
              "      <td>0.2</td>\n",
              "      <td>Iris-setosa</td>\n",
              "    </tr>\n",
              "    <tr>\n",
              "      <th>3</th>\n",
              "      <td>5.0</td>\n",
              "      <td>3.6</td>\n",
              "      <td>1.4</td>\n",
              "      <td>0.2</td>\n",
              "      <td>Iris-setosa</td>\n",
              "    </tr>\n",
              "    <tr>\n",
              "      <th>4</th>\n",
              "      <td>5.4</td>\n",
              "      <td>3.9</td>\n",
              "      <td>1.7</td>\n",
              "      <td>0.4</td>\n",
              "      <td>Iris-setosa</td>\n",
              "    </tr>\n",
              "  </tbody>\n",
              "</table>\n",
              "</div>"
            ],
            "text/plain": [
              "   5.1  3.5  1.4  0.2  Iris-setosa\n",
              "0  4.9  3.0  1.4  0.2  Iris-setosa\n",
              "1  4.7  3.2  1.3  0.2  Iris-setosa\n",
              "2  4.6  3.1  1.5  0.2  Iris-setosa\n",
              "3  5.0  3.6  1.4  0.2  Iris-setosa\n",
              "4  5.4  3.9  1.7  0.4  Iris-setosa"
            ]
          },
          "metadata": {
            "tags": []
          },
          "execution_count": 5
        }
      ]
    },
    {
      "cell_type": "code",
      "metadata": {
        "id": "-wia3H1s-_lT",
        "colab_type": "code",
        "colab": {
          "base_uri": "https://localhost:8080/",
          "height": 198
        },
        "outputId": "72a7e197-4868-47ca-a4c2-cea32e0738a4"
      },
      "source": [
        "iris.columns = [\"sepal_length\", \"sepal_width\", \"petal_length\", \"petal_width\", \"target_class\"]\n",
        "iris.dropna(how ='all', inplace = True)\n",
        "iris.head()"
      ],
      "execution_count": null,
      "outputs": [
        {
          "output_type": "execute_result",
          "data": {
            "text/html": [
              "<div>\n",
              "<style scoped>\n",
              "    .dataframe tbody tr th:only-of-type {\n",
              "        vertical-align: middle;\n",
              "    }\n",
              "\n",
              "    .dataframe tbody tr th {\n",
              "        vertical-align: top;\n",
              "    }\n",
              "\n",
              "    .dataframe thead th {\n",
              "        text-align: right;\n",
              "    }\n",
              "</style>\n",
              "<table border=\"1\" class=\"dataframe\">\n",
              "  <thead>\n",
              "    <tr style=\"text-align: right;\">\n",
              "      <th></th>\n",
              "      <th>sepal_length</th>\n",
              "      <th>sepal_width</th>\n",
              "      <th>petal_length</th>\n",
              "      <th>petal_width</th>\n",
              "      <th>target_class</th>\n",
              "    </tr>\n",
              "  </thead>\n",
              "  <tbody>\n",
              "    <tr>\n",
              "      <th>0</th>\n",
              "      <td>4.9</td>\n",
              "      <td>3.0</td>\n",
              "      <td>1.4</td>\n",
              "      <td>0.2</td>\n",
              "      <td>Iris-setosa</td>\n",
              "    </tr>\n",
              "    <tr>\n",
              "      <th>1</th>\n",
              "      <td>4.7</td>\n",
              "      <td>3.2</td>\n",
              "      <td>1.3</td>\n",
              "      <td>0.2</td>\n",
              "      <td>Iris-setosa</td>\n",
              "    </tr>\n",
              "    <tr>\n",
              "      <th>2</th>\n",
              "      <td>4.6</td>\n",
              "      <td>3.1</td>\n",
              "      <td>1.5</td>\n",
              "      <td>0.2</td>\n",
              "      <td>Iris-setosa</td>\n",
              "    </tr>\n",
              "    <tr>\n",
              "      <th>3</th>\n",
              "      <td>5.0</td>\n",
              "      <td>3.6</td>\n",
              "      <td>1.4</td>\n",
              "      <td>0.2</td>\n",
              "      <td>Iris-setosa</td>\n",
              "    </tr>\n",
              "    <tr>\n",
              "      <th>4</th>\n",
              "      <td>5.4</td>\n",
              "      <td>3.9</td>\n",
              "      <td>1.7</td>\n",
              "      <td>0.4</td>\n",
              "      <td>Iris-setosa</td>\n",
              "    </tr>\n",
              "  </tbody>\n",
              "</table>\n",
              "</div>"
            ],
            "text/plain": [
              "   sepal_length  sepal_width  petal_length  petal_width target_class\n",
              "0           4.9          3.0           1.4          0.2  Iris-setosa\n",
              "1           4.7          3.2           1.3          0.2  Iris-setosa\n",
              "2           4.6          3.1           1.5          0.2  Iris-setosa\n",
              "3           5.0          3.6           1.4          0.2  Iris-setosa\n",
              "4           5.4          3.9           1.7          0.4  Iris-setosa"
            ]
          },
          "metadata": {
            "tags": []
          },
          "execution_count": 6
        }
      ]
    },
    {
      "cell_type": "code",
      "metadata": {
        "id": "B4qvghZn-_lW",
        "colab_type": "code",
        "colab": {
          "base_uri": "https://localhost:8080/",
          "height": 221
        },
        "outputId": "25299b85-6fab-4709-9ec1-6334c1c78f5e"
      },
      "source": [
        "iris.info()"
      ],
      "execution_count": null,
      "outputs": [
        {
          "output_type": "stream",
          "text": [
            "<class 'pandas.core.frame.DataFrame'>\n",
            "Int64Index: 149 entries, 0 to 148\n",
            "Data columns (total 5 columns):\n",
            " #   Column        Non-Null Count  Dtype  \n",
            "---  ------        --------------  -----  \n",
            " 0   sepal_length  149 non-null    float64\n",
            " 1   sepal_width   149 non-null    float64\n",
            " 2   petal_length  149 non-null    float64\n",
            " 3   petal_width   149 non-null    float64\n",
            " 4   target_class  149 non-null    object \n",
            "dtypes: float64(4), object(1)\n",
            "memory usage: 7.0+ KB\n"
          ],
          "name": "stdout"
        }
      ]
    },
    {
      "cell_type": "markdown",
      "metadata": {
        "id": "X1J5FXmL-_lZ",
        "colab_type": "text"
      },
      "source": [
        "# Step 2: Data Visualization"
      ]
    },
    {
      "cell_type": "code",
      "metadata": {
        "id": "L0ZF63rf-_la",
        "colab_type": "code",
        "colab": {
          "base_uri": "https://localhost:8080/",
          "height": 534
        },
        "outputId": "1122eba1-f69d-44ad-a333-40442b0d566b"
      },
      "source": [
        "#use your own idea to visualize the data\n",
        "\n",
        "\n",
        "fig, ax = plt.subplots()\n",
        "\n",
        "# scatter the sepal_length against the sepal_width\n",
        "ax.scatter(iris['sepal_length'], iris['sepal_width'])\n",
        "# set a title and labels\n",
        "ax.set_title('Iris Dataset')\n",
        "ax.set_xlabel('sepal_length')\n",
        "ax.set_ylabel('sepal_width')\n",
        "\n",
        "\n"
      ],
      "execution_count": null,
      "outputs": [
        {
          "output_type": "execute_result",
          "data": {
            "text/plain": [
              "Text(0, 0.5, 'sepal_width')"
            ]
          },
          "metadata": {
            "tags": []
          },
          "execution_count": 8
        },
        {
          "output_type": "display_data",
          "data": {
            "image/png": "[encoded data removed]",
            "text/plain": [
              "<Figure size 864x576 with 1 Axes>"
            ]
          },
          "metadata": {
            "tags": []
          }
        }
      ]
    },
    {
      "cell_type": "code",
      "metadata": {
        "id": "36q1QBjFc4JY",
        "colab_type": "code",
        "colab": {
          "base_uri": "https://localhost:8080/",
          "height": 534
        },
        "outputId": "67f65668-3ada-40ad-fdc3-21eab71249f3"
      },
      "source": [
        "#use your own idea to visualize the data\n",
        "\n",
        "\n",
        "fig, ax = plt.subplots()\n",
        "\n",
        "# scatter the sepal_length against the sepal_width\n",
        "ax.scatter(iris['petal_length'], iris['petal_width'])\n",
        "# set a title and labels\n",
        "ax.set_title('Iris Dataset')\n",
        "ax.set_xlabel('petal_length')\n",
        "ax.set_ylabel('petal_width')\n",
        "\n",
        "\n"
      ],
      "execution_count": null,
      "outputs": [
        {
          "output_type": "execute_result",
          "data": {
            "text/plain": [
              "Text(0, 0.5, 'petal_width')"
            ]
          },
          "metadata": {
            "tags": []
          },
          "execution_count": 9
        },
        {
          "output_type": "display_data",
          "data": {
            "image/png": "[encoded data removed]",
            "text/plain": [
              "<Figure size 864x576 with 1 Axes>"
            ]
          },
          "metadata": {
            "tags": []
          }
        }
      ]
    },
    {
      "cell_type": "code",
      "metadata": {
        "id": "e-Pt3Kpi_U_E",
        "colab_type": "code",
        "colab": {
          "base_uri": "https://localhost:8080/",
          "height": 517
        },
        "outputId": "ddba6025-ae9f-4ba7-c4c5-5f5f76da4cad"
      },
      "source": [
        "columns = iris.columns.drop(['target_class'])\n",
        "# create x data\n",
        "x_data = range(0, iris.shape[0])\n",
        "# create figure and axis\n",
        "fig, ax = plt.subplots()\n",
        "# plot each column\n",
        "for column in columns:\n",
        "    ax.plot(x_data, iris[column], label=column)\n",
        "# set title and legend\n",
        "ax.set_title('Iris Dataset')\n",
        "ax.legend()"
      ],
      "execution_count": null,
      "outputs": [
        {
          "output_type": "execute_result",
          "data": {
            "text/plain": [
              "<matplotlib.legend.Legend at 0x7f3481203be0>"
            ]
          },
          "metadata": {
            "tags": []
          },
          "execution_count": 97
        },
        {
          "output_type": "display_data",
          "data": {
            "image/png": "[encoded data removed]",
            "text/plain": [
              "<Figure size 864x576 with 1 Axes>"
            ]
          },
          "metadata": {
            "tags": []
          }
        }
      ]
    },
    {
      "cell_type": "code",
      "metadata": {
        "id": "4cPFSKZB_Vr9",
        "colab_type": "code",
        "colab": {
          "base_uri": "https://localhost:8080/",
          "height": 517
        },
        "outputId": "91251691-b88f-4553-cc74-26337a469349"
      },
      "source": [
        "sns.scatterplot(x='sepal_length', y='sepal_width', hue='target_class', data=iris)"
      ],
      "execution_count": null,
      "outputs": [
        {
          "output_type": "execute_result",
          "data": {
            "text/plain": [
              "<matplotlib.axes._subplots.AxesSubplot at 0x7f3481291e80>"
            ]
          },
          "metadata": {
            "tags": []
          },
          "execution_count": 98
        },
        {
          "output_type": "display_data",
          "data": {
            "image/png": "[encoded data removed]",
            "text/plain": [
              "<Figure size 864x576 with 1 Axes>"
            ]
          },
          "metadata": {
            "tags": []
          }
        }
      ]
    },
    {
      "cell_type": "markdown",
      "metadata": {
        "id": "rOarcZxT-_lh",
        "colab_type": "text"
      },
      "source": [
        "# Step 3: Data Pre-Processing"
      ]
    },
    {
      "cell_type": "code",
      "metadata": {
        "id": "Mx0x4dKT-_li",
        "colab_type": "code",
        "colab": {}
      },
      "source": [
        "X = iris.iloc[:, 0:4].values #feature matrix\n",
        "Y = iris.target_class.values #target vector\n"
      ],
      "execution_count": null,
      "outputs": []
    },
    {
      "cell_type": "code",
      "metadata": {
        "id": "lg3vklzq-_lk",
        "colab_type": "code",
        "colab": {}
      },
      "source": [
        "\n",
        "def normalize(X):\n",
        "    mu = np.mean(X, axis=0)  \n",
        "    std = np.std(X, axis=0)\n",
        "    std_filled = std.copy()\n",
        "    \n",
        "    if np.all(std_filled == 1):\n",
        "      std=0\n",
        "      Xbar = (X-mu)/std\n",
        "    else:\n",
        "\n",
        "      Xbar = (X-mu)/std           \n",
        "      return Xbar\n"
      ],
      "execution_count": null,
      "outputs": []
    },
    {
      "cell_type": "code",
      "metadata": {
        "id": "aWU9HSFpkqgu",
        "colab_type": "code",
        "colab": {
          "base_uri": "https://localhost:8080/",
          "height": 1000
        },
        "outputId": "55cb5a45-23c0-465c-fc44-c341e96f5c5f"
      },
      "source": [
        "X=normalize(X)\n",
        "X"
      ],
      "execution_count": null,
      "outputs": [
        {
          "output_type": "execute_result",
          "data": {
            "text/plain": [
              "array([[-1.1483555 , -0.11805969, -1.35396443, -1.32506301],\n",
              "       [-1.3905423 ,  0.34485856, -1.41098555, -1.32506301],\n",
              "       [-1.51163569,  0.11339944, -1.29694332, -1.32506301],\n",
              "       [-1.02726211,  1.27069504, -1.35396443, -1.32506301],\n",
              "       [-0.54288852,  1.9650724 , -1.18290109, -1.0614657 ],\n",
              "       [-1.51163569,  0.8077768 , -1.35396443, -1.19326436],\n",
              "       [-1.02726211,  0.8077768 , -1.29694332, -1.32506301],\n",
              "       [-1.75382249, -0.34951881, -1.35396443, -1.32506301],\n",
              "       [-1.1483555 ,  0.11339944, -1.29694332, -1.45686167],\n",
              "       [-0.54288852,  1.50215416, -1.29694332, -1.32506301],\n",
              "       [-1.2694489 ,  0.8077768 , -1.23992221, -1.32506301],\n",
              "       [-1.2694489 , -0.11805969, -1.35396443, -1.45686167],\n",
              "       [-1.87491588, -0.11805969, -1.52502777, -1.45686167],\n",
              "       [-0.05851493,  2.19653152, -1.46800666, -1.32506301],\n",
              "       [-0.17960833,  3.122368  , -1.29694332, -1.0614657 ],\n",
              "       [-0.54288852,  1.9650724 , -1.41098555, -1.0614657 ],\n",
              "       [-0.90616871,  1.03923592, -1.35396443, -1.19326436],\n",
              "       [-0.17960833,  1.73361328, -1.18290109, -1.19326436],\n",
              "       [-0.90616871,  1.73361328, -1.29694332, -1.19326436],\n",
              "       [-0.54288852,  0.8077768 , -1.18290109, -1.32506301],\n",
              "       [-0.90616871,  1.50215416, -1.29694332, -1.0614657 ],\n",
              "       [-1.51163569,  1.27069504, -1.58204889, -1.32506301],\n",
              "       [-0.90616871,  0.57631768, -1.18290109, -0.92966704],\n",
              "       [-1.2694489 ,  0.8077768 , -1.06885886, -1.32506301],\n",
              "       [-1.02726211, -0.11805969, -1.23992221, -1.32506301],\n",
              "       [-1.02726211,  0.8077768 , -1.23992221, -1.0614657 ],\n",
              "       [-0.78507531,  1.03923592, -1.29694332, -1.32506301],\n",
              "       [-0.78507531,  0.8077768 , -1.35396443, -1.32506301],\n",
              "       [-1.3905423 ,  0.34485856, -1.23992221, -1.32506301],\n",
              "       [-1.2694489 ,  0.11339944, -1.23992221, -1.32506301],\n",
              "       [-0.54288852,  0.8077768 , -1.29694332, -1.0614657 ],\n",
              "       [-0.78507531,  2.42799064, -1.29694332, -1.45686167],\n",
              "       [-0.42179512,  2.65944976, -1.35396443, -1.32506301],\n",
              "       [-1.1483555 ,  0.11339944, -1.29694332, -1.45686167],\n",
              "       [-1.02726211,  0.34485856, -1.46800666, -1.32506301],\n",
              "       [-0.42179512,  1.03923592, -1.41098555, -1.32506301],\n",
              "       [-1.1483555 ,  0.11339944, -1.29694332, -1.45686167],\n",
              "       [-1.75382249, -0.11805969, -1.41098555, -1.32506301],\n",
              "       [-0.90616871,  0.8077768 , -1.29694332, -1.32506301],\n",
              "       [-1.02726211,  1.03923592, -1.41098555, -1.19326436],\n",
              "       [-1.63272909, -1.73827353, -1.41098555, -1.19326436],\n",
              "       [-1.75382249,  0.34485856, -1.41098555, -1.32506301],\n",
              "       [-1.02726211,  1.03923592, -1.23992221, -0.79786838],\n",
              "       [-0.90616871,  1.73361328, -1.06885886, -1.0614657 ],\n",
              "       [-1.2694489 , -0.11805969, -1.35396443, -1.19326436],\n",
              "       [-0.90616871,  1.73361328, -1.23992221, -1.32506301],\n",
              "       [-1.51163569,  0.34485856, -1.35396443, -1.32506301],\n",
              "       [-0.66398191,  1.50215416, -1.29694332, -1.32506301],\n",
              "       [-1.02726211,  0.57631768, -1.35396443, -1.32506301],\n",
              "       [ 1.39460583,  0.34485856,  0.52773232,  0.25652088],\n",
              "       [ 0.66804545,  0.34485856,  0.41369009,  0.38831953],\n",
              "       [ 1.27351244,  0.11339944,  0.64177455,  0.38831953],\n",
              "       [-0.42179512, -1.73827353,  0.12858453,  0.12472222],\n",
              "       [ 0.78913885, -0.58097793,  0.47071121,  0.38831953],\n",
              "       [-0.17960833, -0.58097793,  0.41369009,  0.12472222],\n",
              "       [ 0.54695205,  0.57631768,  0.52773232,  0.52011819],\n",
              "       [-1.1483555 , -1.50681441, -0.27056327, -0.27067375],\n",
              "       [ 0.91023225, -0.34951881,  0.47071121,  0.12472222],\n",
              "       [-0.78507531, -0.81243705,  0.07156341,  0.25652088],\n",
              "       [-1.02726211, -2.43265089, -0.15652104, -0.27067375],\n",
              "       [ 0.06257847, -0.11805969,  0.24262675,  0.38831953],\n",
              "       [ 0.18367186, -1.96973265,  0.12858453, -0.27067375],\n",
              "       [ 0.30476526, -0.34951881,  0.52773232,  0.25652088],\n",
              "       [-0.30070172, -0.34951881, -0.09949993,  0.12472222],\n",
              "       [ 1.03132564,  0.11339944,  0.35666898,  0.25652088],\n",
              "       [-0.30070172, -0.11805969,  0.41369009,  0.38831953],\n",
              "       [-0.05851493, -0.81243705,  0.18560564, -0.27067375],\n",
              "       [ 0.42585866, -1.96973265,  0.41369009,  0.38831953],\n",
              "       [-0.30070172, -1.27535529,  0.07156341, -0.1388751 ],\n",
              "       [ 0.06257847,  0.34485856,  0.58475344,  0.78371551],\n",
              "       [ 0.30476526, -0.58097793,  0.12858453,  0.12472222],\n",
              "       [ 0.54695205, -1.27535529,  0.64177455,  0.38831953],\n",
              "       [ 0.30476526, -0.58097793,  0.52773232, -0.00707644],\n",
              "       [ 0.66804545, -0.34951881,  0.29964787,  0.12472222],\n",
              "       [ 0.91023225, -0.11805969,  0.35666898,  0.25652088],\n",
              "       [ 1.15241904, -0.58097793,  0.58475344,  0.25652088],\n",
              "       [ 1.03132564, -0.11805969,  0.69879566,  0.65191685],\n",
              "       [ 0.18367186, -0.34951881,  0.41369009,  0.38831953],\n",
              "       [-0.17960833, -1.04389617, -0.15652104, -0.27067375],\n",
              "       [-0.42179512, -1.50681441,  0.0145423 , -0.1388751 ],\n",
              "       [-0.42179512, -1.50681441, -0.04247882, -0.27067375],\n",
              "       [-0.05851493, -0.81243705,  0.07156341, -0.00707644],\n",
              "       [ 0.18367186, -0.81243705,  0.75581678,  0.52011819],\n",
              "       [-0.54288852, -0.11805969,  0.41369009,  0.38831953],\n",
              "       [ 0.18367186,  0.8077768 ,  0.41369009,  0.52011819],\n",
              "       [ 1.03132564,  0.11339944,  0.52773232,  0.38831953],\n",
              "       [ 0.54695205, -1.73827353,  0.35666898,  0.12472222],\n",
              "       [-0.30070172, -0.11805969,  0.18560564,  0.12472222],\n",
              "       [-0.42179512, -1.27535529,  0.12858453,  0.12472222],\n",
              "       [-0.42179512, -1.04389617,  0.35666898, -0.00707644],\n",
              "       [ 0.30476526, -0.11805969,  0.47071121,  0.25652088],\n",
              "       [-0.05851493, -1.04389617,  0.12858453, -0.00707644],\n",
              "       [-1.02726211, -1.73827353, -0.27056327, -0.27067375],\n",
              "       [-0.30070172, -0.81243705,  0.24262675,  0.12472222],\n",
              "       [-0.17960833, -0.11805969,  0.24262675, -0.00707644],\n",
              "       [-0.17960833, -0.34951881,  0.24262675,  0.12472222],\n",
              "       [ 0.42585866, -0.34951881,  0.29964787,  0.12472222],\n",
              "       [-0.90616871, -1.27535529, -0.44162661, -0.1388751 ],\n",
              "       [-0.17960833, -0.58097793,  0.18560564,  0.12472222],\n",
              "       [ 0.54695205,  0.57631768,  1.2690068 ,  1.70630611],\n",
              "       [-0.05851493, -0.81243705,  0.75581678,  0.91551417],\n",
              "       [ 1.51569923, -0.11805969,  1.21198569,  1.17911148],\n",
              "       [ 0.54695205, -0.34951881,  1.04092235,  0.78371551],\n",
              "       [ 0.78913885, -0.11805969,  1.15496457,  1.31091014],\n",
              "       [ 2.12116622, -0.11805969,  1.61113348,  1.17911148],\n",
              "       [-1.1483555 , -1.27535529,  0.41369009,  0.65191685],\n",
              "       [ 1.75788602, -0.34951881,  1.44007014,  0.78371551],\n",
              "       [ 1.03132564, -1.27535529,  1.15496457,  0.78371551],\n",
              "       [ 1.63679263,  1.27069504,  1.32602791,  1.70630611],\n",
              "       [ 0.78913885,  0.34485856,  0.75581678,  1.04731282],\n",
              "       [ 0.66804545, -0.81243705,  0.869859  ,  0.91551417],\n",
              "       [ 1.15241904, -0.11805969,  0.98390123,  1.17911148],\n",
              "       [-0.17960833, -1.27535529,  0.69879566,  1.04731282],\n",
              "       [-0.05851493, -0.58097793,  0.75581678,  1.57450745],\n",
              "       [ 0.66804545,  0.34485856,  0.869859  ,  1.4427088 ],\n",
              "       [ 0.78913885, -0.11805969,  0.98390123,  0.78371551],\n",
              "       [ 2.24225961,  1.73361328,  1.6681546 ,  1.31091014],\n",
              "       [ 2.24225961, -1.04389617,  1.78219682,  1.4427088 ],\n",
              "       [ 0.18367186, -1.96973265,  0.69879566,  0.38831953],\n",
              "       [ 1.27351244,  0.34485856,  1.09794346,  1.4427088 ],\n",
              "       [-0.30070172, -0.58097793,  0.64177455,  1.04731282],\n",
              "       [ 2.24225961, -0.58097793,  1.6681546 ,  1.04731282],\n",
              "       [ 0.54695205, -0.81243705,  0.64177455,  0.78371551],\n",
              "       [ 1.03132564,  0.57631768,  1.09794346,  1.17911148],\n",
              "       [ 1.63679263,  0.34485856,  1.2690068 ,  0.78371551],\n",
              "       [ 0.42585866, -0.58097793,  0.58475344,  0.78371551],\n",
              "       [ 0.30476526, -0.11805969,  0.64177455,  0.78371551],\n",
              "       [ 0.66804545, -0.58097793,  1.04092235,  1.17911148],\n",
              "       [ 1.63679263, -0.11805969,  1.15496457,  0.52011819],\n",
              "       [ 1.87897942, -0.58097793,  1.32602791,  0.91551417],\n",
              "       [ 2.48444641,  1.73361328,  1.49709126,  1.04731282],\n",
              "       [ 0.66804545, -0.58097793,  1.04092235,  1.31091014],\n",
              "       [ 0.54695205, -0.58097793,  0.75581678,  0.38831953],\n",
              "       [ 0.30476526, -1.04389617,  1.04092235,  0.25652088],\n",
              "       [ 2.24225961, -0.11805969,  1.32602791,  1.4427088 ],\n",
              "       [ 0.54695205,  0.8077768 ,  1.04092235,  1.57450745],\n",
              "       [ 0.66804545,  0.11339944,  0.98390123,  0.78371551],\n",
              "       [ 0.18367186, -0.11805969,  0.58475344,  0.78371551],\n",
              "       [ 1.27351244,  0.11339944,  0.92688012,  1.17911148],\n",
              "       [ 1.03132564,  0.11339944,  1.04092235,  1.57450745],\n",
              "       [ 1.27351244,  0.11339944,  0.75581678,  1.4427088 ],\n",
              "       [-0.05851493, -0.81243705,  0.75581678,  0.91551417],\n",
              "       [ 1.15241904,  0.34485856,  1.21198569,  1.4427088 ],\n",
              "       [ 1.03132564,  0.57631768,  1.09794346,  1.70630611],\n",
              "       [ 1.03132564, -0.11805969,  0.81283789,  1.4427088 ],\n",
              "       [ 0.54695205, -1.27535529,  0.69879566,  0.91551417],\n",
              "       [ 0.78913885, -0.11805969,  0.81283789,  1.04731282],\n",
              "       [ 0.42585866,  0.8077768 ,  0.92688012,  1.4427088 ],\n",
              "       [ 0.06257847, -0.11805969,  0.75581678,  0.78371551]])"
            ]
          },
          "metadata": {
            "tags": []
          },
          "execution_count": 12
        }
      ]
    },
    {
      "cell_type": "markdown",
      "metadata": {
        "id": "K18YKsWl-_lo",
        "colab_type": "text"
      },
      "source": [
        "# Step 4: Computaion of Eigen Values & Eigen Vectors"
      ]
    },
    {
      "cell_type": "markdown",
      "metadata": {
        "id": "NpCEX6Su-_lo",
        "colab_type": "text"
      },
      "source": [
        "Covariance: $\\sigma_{jk} = \\frac{1}{n-1}\\sum_{i=1}^{N}(x_{ij}-\\bar{x_j})(x_{ik}-\\bar{x_k})$\n",
        "\n",
        "Coviance matrix: $Σ = \\frac{1}{n-1}((X-\\bar{x})^T(X-\\bar{x}))$"
      ]
    },
    {
      "cell_type": "code",
      "metadata": {
        "id": "LwNTPpqE-_lp",
        "colab_type": "code",
        "colab": {}
      },
      "source": [
        "#calculate covariance_matrix using numpy\n",
        "\n",
        "#A=iris.loc[: , \"sepal_length\"]\n",
        "#B=iris.loc[: , \"sepal_width\"]\n",
        "#C=iris.loc[: , \"petal_length\"]\n",
        "#D=iris.loc[: , \"petal_width\"]\n",
        "#data = np.array([A,B,C,D])\n",
        "\n",
        "#covariance_matrix = np.cov(data,bias=True)\n",
        "\n",
        "\n",
        "#print(\"Covariance Matrix \\n\", covariance_matrix)"
      ],
      "execution_count": null,
      "outputs": []
    },
    {
      "cell_type": "code",
      "metadata": {
        "id": "hH6OJ8UVUKIu",
        "colab_type": "code",
        "colab": {
          "base_uri": "https://localhost:8080/",
          "height": 102
        },
        "outputId": "15cb564a-0b8c-4f61-8bef-ce22944d442c"
      },
      "source": [
        "import numpy as np\n",
        "mean_vec = np.mean(X, axis=0)\n",
        "covariance_matrix = (X - mean_vec).T.dot((X - mean_vec)) / (X.shape[0]-1)\n",
        "print('Covariance matrix \\n%s' %covariance_matrix)"
      ],
      "execution_count": null,
      "outputs": [
        {
          "output_type": "stream",
          "text": [
            "Covariance matrix \n",
            "[[ 1.00675676 -0.10448539  0.87716999  0.82249094]\n",
            " [-0.10448539  1.00675676 -0.41802325 -0.35310295]\n",
            " [ 0.87716999 -0.41802325  1.00675676  0.96881642]\n",
            " [ 0.82249094 -0.35310295  0.96881642  1.00675676]]\n"
          ],
          "name": "stdout"
        }
      ]
    },
    {
      "cell_type": "code",
      "metadata": {
        "id": "jGJqPjlc3RGd",
        "colab_type": "code",
        "colab": {}
      },
      "source": [
        ""
      ],
      "execution_count": null,
      "outputs": []
    },
    {
      "cell_type": "markdown",
      "metadata": {
        "id": "k69w9NFM-_lr",
        "colab_type": "text"
      },
      "source": [
        "We can prove it by looking at the covariance matrix. It has the property that it is symmetric.\n",
        "We also constrain the each of the columns (eigenvectors) such that the values sum to 1. \n",
        "Thus, they are orthonormal to each other.\n",
        "\n",
        "Eigen decomposition of covariance matrix : $Σ = W\\wedge W^{-1}$\n",
        "\n",
        "W is the matrix composed by total eigenvectors, $\\wedge$ is the diagonal matrix with all eigenvalues in diagonal.  "
      ]
    },
    {
      "cell_type": "code",
      "metadata": {
        "id": "PsefJKoF-_lt",
        "colab_type": "code",
        "colab": {
          "base_uri": "https://localhost:8080/",
          "height": 170
        },
        "outputId": "35b375ca-502c-4727-92c4-818f2cd153b0"
      },
      "source": [
        "#calculate eigen_values, eigen_vectors using numpy\n",
        "\n",
        "from numpy import linalg as LA\n",
        "\n",
        "eigen_values, eigen_vectors = np.linalg.eig(covariance_matrix)\n",
        "\n",
        "\n",
        "print(\"Eigenvectors \\n\", eigen_vectors, \"\\n\")\n",
        "print(\"Eigenvalues \\n\", eigen_values, \"\\n\")"
      ],
      "execution_count": null,
      "outputs": [
        {
          "output_type": "stream",
          "text": [
            "Eigenvectors \n",
            " [[ 0.52308496 -0.36956962 -0.72154279  0.26301409]\n",
            " [-0.25956935 -0.92681168  0.2411952  -0.12437342]\n",
            " [ 0.58184289 -0.01912775  0.13962963 -0.80099722]\n",
            " [ 0.56609604 -0.06381646  0.63380158  0.52321917]] \n",
            "\n",
            "Eigenvalues \n",
            " [2.92442837 0.93215233 0.14946373 0.02098259] \n",
            "\n"
          ],
          "name": "stdout"
        }
      ]
    },
    {
      "cell_type": "code",
      "metadata": {
        "id": "sJQV1msOSpjV",
        "colab_type": "code",
        "colab": {}
      },
      "source": [
        " idx = eigen_values.argsort()[::-1]\n",
        " eigen_values = eigen_values[idx]\n",
        " eigen_vectors = eigen_vectors[:,idx]\n",
        " "
      ],
      "execution_count": null,
      "outputs": []
    },
    {
      "cell_type": "code",
      "metadata": {
        "id": "Na_BbnZoS2XT",
        "colab_type": "code",
        "colab": {}
      },
      "source": [
        ""
      ],
      "execution_count": null,
      "outputs": []
    },
    {
      "cell_type": "markdown",
      "metadata": {
        "id": "QrY6sjO5-_ly",
        "colab_type": "text"
      },
      "source": [
        "# Step 5: Singular Value Decomposition (SVD)"
      ]
    },
    {
      "cell_type": "markdown",
      "metadata": {
        "id": "o5ZKgRWJ-_lz",
        "colab_type": "text"
      },
      "source": [
        "This is basically used to diagonalize the feature matrix when it is not a square matrix."
      ]
    },
    {
      "cell_type": "code",
      "metadata": {
        "id": "PhY1K2zR-_lz",
        "colab_type": "code",
        "colab": {
          "base_uri": "https://localhost:8080/",
          "height": 119
        },
        "outputId": "a194bddc-5f7b-4023-97fd-eadb6c92b4d8"
      },
      "source": [
        "evec_svd, s, v = np.linalg.svd(X.T)\n",
        "print(\"Eigenvectors \\n\", evec_svd, \"\\n\")\n",
        "\n",
        "#here, we just interested in directions of vector, so sign doesn't matter"
      ],
      "execution_count": null,
      "outputs": [
        {
          "output_type": "stream",
          "text": [
            "Eigenvectors \n",
            " [[-0.52308496 -0.36956962  0.72154279  0.26301409]\n",
            " [ 0.25956935 -0.92681168 -0.2411952  -0.12437342]\n",
            " [-0.58184289 -0.01912775 -0.13962963 -0.80099722]\n",
            " [-0.56609604 -0.06381646 -0.63380158  0.52321917]] \n",
            "\n"
          ],
          "name": "stdout"
        }
      ]
    },
    {
      "cell_type": "markdown",
      "metadata": {
        "id": "S4-BB5DO-_l1",
        "colab_type": "text"
      },
      "source": [
        "What is major difference between EVD & SVD?\n",
        "- in eigen value decomposition we use only one basis that is eigen vector where as in singular value decomposition we use two basis left and right singular vector."
      ]
    },
    {
      "cell_type": "markdown",
      "metadata": {
        "id": "YTTjlc_O-_l2",
        "colab_type": "text"
      },
      "source": [
        "# Step 6: Picking Principal Components Using the Explained Variance"
      ]
    },
    {
      "cell_type": "code",
      "metadata": {
        "id": "sfPJLNhW-_l3",
        "colab_type": "code",
        "colab": {
          "base_uri": "https://localhost:8080/",
          "height": 85
        },
        "outputId": "506f8487-0312-4e03-ec00-e03de641ff3b"
      },
      "source": [
        "for val in eigen_values:\n",
        "    print(val)"
      ],
      "execution_count": null,
      "outputs": [
        {
          "output_type": "stream",
          "text": [
            "2.9244283691111117\n",
            "0.9321523302535064\n",
            "0.14946373489813353\n",
            "0.020982592764270593\n"
          ],
          "name": "stdout"
        }
      ]
    },
    {
      "cell_type": "code",
      "metadata": {
        "id": "h1ImWMJb-_l5",
        "colab_type": "code",
        "colab": {
          "base_uri": "https://localhost:8080/",
          "height": 51
        },
        "outputId": "ebe05692-5353-4687-b19c-0d63f453ca37"
      },
      "source": [
        "variance_explained = [(i/sum(eigen_values))*100 for i in eigen_values]\n",
        "print(\"Variance Explained: \\n\", variance_explained)\n",
        "\n",
        "#72% variance in our data is explained by the first eigen-value i.e, 2.930..."
      ],
      "execution_count": null,
      "outputs": [
        {
          "output_type": "stream",
          "text": [
            "Variance Explained: \n",
            " [72.62003332692032, 23.14740685864415, 3.7115155645845284, 0.5210442498510154]\n"
          ],
          "name": "stdout"
        }
      ]
    },
    {
      "cell_type": "code",
      "metadata": {
        "id": "L3TIlzGfDxbZ",
        "colab_type": "code",
        "colab": {
          "base_uri": "https://localhost:8080/",
          "height": 102
        },
        "outputId": "faffe6a6-abc8-43f6-ed1f-9ba88f79dddf"
      },
      "source": [
        "eig_pairs = [(np.abs(eigen_values[i]), eigen_vectors[:,i]) for i in range(len(eigen_values))]\n",
        "\n",
        "# Sort the (eigenvalue, eigenvector) tuples from high to low\n",
        "eig_pairs.sort()\n",
        "eig_pairs.reverse()\n",
        "\n",
        "# Visually confirm that the list is correctly sorted by decreasing eigenvalues\n",
        "print('Eigenvalues in descending order:')\n",
        "for i in eig_pairs:\n",
        "    print(i[0])"
      ],
      "execution_count": null,
      "outputs": [
        {
          "output_type": "stream",
          "text": [
            "Eigenvalues in descending order:\n",
            "2.9244283691111117\n",
            "0.9321523302535064\n",
            "0.14946373489813353\n",
            "0.020982592764270593\n"
          ],
          "name": "stdout"
        }
      ]
    },
    {
      "cell_type": "code",
      "metadata": {
        "id": "_ZLwNVfH-_l8",
        "colab_type": "code",
        "colab": {
          "base_uri": "https://localhost:8080/",
          "height": 34
        },
        "outputId": "53fb91bc-880a-49e1-bd94-d471bebc26bb"
      },
      "source": [
        "cumulative_variance_explained = np.cumsum(variance_explained)\n",
        "print(cumulative_variance_explained)\n",
        "\n",
        "#If we used only 1st eigen value to choose principal components, We will be able to capture 72% of our data.\n",
        "# If we choose 2 eigen values, 95% is handled and so on..."
      ],
      "execution_count": null,
      "outputs": [
        {
          "output_type": "stream",
          "text": [
            "[ 72.62003333  95.76744019  99.47895575 100.        ]\n"
          ],
          "name": "stdout"
        }
      ]
    },
    {
      "cell_type": "code",
      "metadata": {
        "id": "4bpreSz4Ww0b",
        "colab_type": "code",
        "colab": {}
      },
      "source": [
        ""
      ],
      "execution_count": null,
      "outputs": []
    },
    {
      "cell_type": "code",
      "metadata": {
        "id": "NzGq3NxHWw8s",
        "colab_type": "code",
        "colab": {}
      },
      "source": [
        ""
      ],
      "execution_count": null,
      "outputs": []
    },
    {
      "cell_type": "code",
      "metadata": {
        "id": "YVRVFUFx-_l-",
        "colab_type": "code",
        "colab": {
          "base_uri": "https://localhost:8080/",
          "height": 500
        },
        "outputId": "2fc5b319-a514-461a-df90-9549f23bbedb"
      },
      "source": [
        "sns.lineplot(x = [1, 2, 3, 4], y = cumulative_variance_explained)\n",
        "plt.xlabel ('Number of Components')\n",
        "plt.ylabel('Cumulative Variance')\n",
        "plt.show()"
      ],
      "execution_count": null,
      "outputs": [
        {
          "output_type": "display_data",
          "data": {
            "image/png": "[encoded data removed]",
            "text/plain": [
              "<Figure size 864x576 with 1 Axes>"
            ]
          },
          "metadata": {
            "tags": []
          }
        }
      ]
    },
    {
      "cell_type": "markdown",
      "metadata": {
        "id": "7QG4-cAu-_mB",
        "colab_type": "text"
      },
      "source": [
        "# Step 7: Project Data onto Lower Dimensional Linear Subspace"
      ]
    },
    {
      "cell_type": "code",
      "metadata": {
        "id": "r-pK13RA-_mB",
        "colab_type": "code",
        "colab": {
          "base_uri": "https://localhost:8080/",
          "height": 85
        },
        "outputId": "72781196-90d5-4512-b922-33452a0c8c69"
      },
      "source": [
        "eigen_vectors"
      ],
      "execution_count": null,
      "outputs": [
        {
          "output_type": "execute_result",
          "data": {
            "text/plain": [
              "array([[ 0.52308496, -0.36956962, -0.72154279,  0.26301409],\n",
              "       [-0.25956935, -0.92681168,  0.2411952 , -0.12437342],\n",
              "       [ 0.58184289, -0.01912775,  0.13962963, -0.80099722],\n",
              "       [ 0.56609604, -0.06381646,  0.63380158,  0.52321917]])"
            ]
          },
          "metadata": {
            "tags": []
          },
          "execution_count": 21
        }
      ]
    },
    {
      "cell_type": "code",
      "metadata": {
        "id": "SK4QdoA1-_mH",
        "colab_type": "code",
        "colab": {
          "base_uri": "https://localhost:8080/",
          "height": 85
        },
        "outputId": "d88c7d29-0aca-4888-e33d-a75445d5ea2c"
      },
      "source": [
        "aa = eigen_vectors.T[:][:]\n",
        "bb = aa[:2]\n",
        "projection_matrix = bb.T\n",
        "projection_matrix"
      ],
      "execution_count": null,
      "outputs": [
        {
          "output_type": "execute_result",
          "data": {
            "text/plain": [
              "array([[ 0.52308496, -0.36956962],\n",
              "       [-0.25956935, -0.92681168],\n",
              "       [ 0.58184289, -0.01912775],\n",
              "       [ 0.56609604, -0.06381646]])"
            ]
          },
          "metadata": {
            "tags": []
          },
          "execution_count": 22
        }
      ]
    },
    {
      "cell_type": "code",
      "metadata": {
        "id": "ddoWPjYh-_mJ",
        "colab_type": "code",
        "colab": {
          "base_uri": "https://localhost:8080/",
          "height": 1000
        },
        "outputId": "3b8a4a46-a067-4978-d230-124de6d2407d"
      },
      "source": [
        "x_pca = X.dot(projection_matrix)\n",
        "x_pca"
      ],
      "execution_count": null,
      "outputs": [
        {
          "output_type": "execute_result",
          "data": {
            "text/plain": [
              "array([[-2.10795032,  0.64427554],\n",
              "       [-2.38797131,  0.30583307],\n",
              "       [-2.32487909,  0.56292316],\n",
              "       [-2.40508635, -0.687591  ],\n",
              "       [-2.08320351, -1.53025171],\n",
              "       [-2.4636848 , -0.08795413],\n",
              "       [-2.25174963, -0.25964365],\n",
              "       [-2.3645813 ,  1.08255676],\n",
              "       [-2.20946338,  0.43707676],\n",
              "       [-2.17862017, -1.08221046],\n",
              "       [-2.34525657, -0.17122946],\n",
              "       [-2.24590315,  0.6974389 ],\n",
              "       [-2.66214582,  0.92447316],\n",
              "       [-2.2050227 , -1.90150522],\n",
              "       [-2.25993023, -2.73492274],\n",
              "       [-2.21591283, -1.52588897],\n",
              "       [-2.20705382, -0.52623535],\n",
              "       [-1.9077081 , -1.4415791 ],\n",
              "       [-2.35411558, -1.17088308],\n",
              "       [-1.93202643, -0.44083479],\n",
              "       [-2.21942518, -0.96477499],\n",
              "       [-2.79116421, -0.50421849],\n",
              "       [-1.83814105, -0.11729122],\n",
              "       [-2.24572458, -0.17450151],\n",
              "       [-1.97825353,  0.59734172],\n",
              "       [-2.06935091, -0.27755619],\n",
              "       [-2.18514506, -0.56366755],\n",
              "       [-2.15824269, -0.34805785],\n",
              "       [-2.28843932,  0.30256102],\n",
              "       [-2.16501749,  0.47232759],\n",
              "       [-1.8491597 , -0.45547527],\n",
              "       [-2.62023392, -1.84237072],\n",
              "       [-2.44885384, -2.1984673 ],\n",
              "       [-2.20946338,  0.43707676],\n",
              "       [-2.23112223,  0.17266644],\n",
              "       [-2.06147331, -0.6957435 ],\n",
              "       [-2.20946338,  0.43707676],\n",
              "       [-2.45783833,  0.86912843],\n",
              "       [-2.1884075 , -0.30439609],\n",
              "       [-2.30357329, -0.48039222],\n",
              "       [-1.89932763,  2.31759817],\n",
              "       [-2.57799771,  0.4400904 ],\n",
              "       [-1.98020921, -0.50889705],\n",
              "       [-2.14679556, -1.18365675],\n",
              "       [-2.09668176,  0.68061705],\n",
              "       [-2.39554894, -1.16356284],\n",
              "       [-2.41813611,  0.34949483],\n",
              "       [-2.24196231, -1.03745802],\n",
              "       [-2.22484727, -0.04403395],\n",
              "       [ 1.09225538, -0.86148748],\n",
              "       [ 0.72045861, -0.59920238],\n",
              "       [ 1.2299583 , -0.61280832],\n",
              "       [ 0.37598859,  1.756516  ],\n",
              "       [ 1.05729685,  0.21303055],\n",
              "       [ 0.36816104,  0.58896262],\n",
              "       [ 0.73800214, -0.77956125],\n",
              "       [-0.52021731,  1.84337921],\n",
              "       [ 0.9113379 , -0.02941906],\n",
              "       [-0.01292322,  1.02537703],\n",
              "       [-0.15020174,  2.65452146],\n",
              "       [ 0.42437533,  0.05686991],\n",
              "       [ 0.52894687,  1.77250558],\n",
              "       [ 0.70241525,  0.18484154],\n",
              "       [-0.05385675,  0.42901221],\n",
              "       [ 0.86277668, -0.50943908],\n",
              "       [ 0.33388091,  0.18785518],\n",
              "       [ 0.13504146,  0.7883247 ],\n",
              "       [ 1.19457128,  1.63549265],\n",
              "       [ 0.13677262,  1.30063807],\n",
              "       [ 0.72711201, -0.40394501],\n",
              "       [ 0.45564294,  0.41540628],\n",
              "       [ 1.21038365,  0.94282042],\n",
              "       [ 0.61327355,  0.4161824 ],\n",
              "       [ 0.68512164,  0.06335788],\n",
              "       [ 0.85951424, -0.25016762],\n",
              "       [ 1.23906722,  0.08500278],\n",
              "       [ 1.34575245, -0.32669695],\n",
              "       [ 0.64732915,  0.22336443],\n",
              "       [-0.06728496,  1.05414028],\n",
              "       [ 0.10033285,  1.56100021],\n",
              "       [-0.00745518,  1.57050182],\n",
              "       [ 0.2179082 ,  0.77368423],\n",
              "       [ 1.04116321,  0.63744742],\n",
              "       [ 0.20719664,  0.27736006],\n",
              "       [ 0.42154138, -0.85764157],\n",
              "       [ 1.03691937, -0.52112206],\n",
              "       [ 1.015435  ,  1.39413373],\n",
              "       [ 0.0519502 ,  0.20903977],\n",
              "       [ 0.25582921,  1.32747797],\n",
              "       [ 0.25384813,  1.11700714],\n",
              "       [ 0.60915822, -0.02858679],\n",
              "       [ 0.31116522,  0.98711256],\n",
              "       [-0.39679548,  2.01314578],\n",
              "       [ 0.26536661,  0.85150613],\n",
              "       [ 0.07385897,  0.17160757],\n",
              "       [ 0.20854936,  0.37771566],\n",
              "       [ 0.55843737,  0.15286277],\n",
              "       [-0.47853403,  1.53421644],\n",
              "       [ 0.23545172,  0.59332536],\n",
              "       [ 1.8408037 , -0.86943848],\n",
              "       [ 1.13831104,  0.70171953],\n",
              "       [ 2.19615974, -0.54916658],\n",
              "       [ 1.42613827,  0.05187679],\n",
              "       [ 1.8575403 , -0.28797217],\n",
              "       [ 2.74511173, -0.78056359],\n",
              "       [ 0.34010583,  1.5568955 ],\n",
              "       [ 2.29180093, -0.40328242],\n",
              "       [ 1.98618025,  0.72876171],\n",
              "       [ 2.26382116, -1.91685818],\n",
              "       [ 1.35591821, -0.69255356],\n",
              "       [ 1.58471851,  0.43102351],\n",
              "       [ 1.87342402, -0.41054652],\n",
              "       [ 1.23656166,  1.16818977],\n",
              "       [ 1.45128483,  0.4451459 ],\n",
              "       [ 1.58276283, -0.67521526],\n",
              "       [ 1.45956552, -0.25105642],\n",
              "       [ 2.43560434, -2.55096977],\n",
              "       [ 3.29752602,  0.01266612],\n",
              "       [ 1.23377366,  1.71954411],\n",
              "       [ 2.03218282, -0.90334021],\n",
              "       [ 0.95980311,  0.57047585],\n",
              "       [ 2.88717988, -0.38895776],\n",
              "       [ 1.31405636,  0.48854962],\n",
              "       [ 1.69619746, -1.01153249],\n",
              "       [ 1.94868773, -0.99881497],\n",
              "       [ 1.1574572 ,  0.31987373],\n",
              "       [ 1.007133  , -0.06550254],\n",
              "       [ 1.7733922 ,  0.19641059],\n",
              "       [ 1.85327106, -0.55077372],\n",
              "       [ 2.4234788 , -0.2397454 ],\n",
              "       [ 2.31353522, -2.62038074],\n",
              "       [ 1.84800289,  0.18799967],\n",
              "       [ 1.09649923,  0.29708201],\n",
              "       [ 1.1812503 ,  0.81858241],\n",
              "       [ 2.79178861, -0.83668445],\n",
              "       [ 1.57340399, -1.07118383],\n",
              "       [ 1.33614369, -0.420823  ],\n",
              "       [ 0.91061354, -0.01965942],\n",
              "       [ 1.84350913, -0.66872729],\n",
              "       [ 2.00701161, -0.60663655],\n",
              "       [ 1.89319854, -0.68227708],\n",
              "       [ 1.13831104,  0.70171953],\n",
              "       [ 2.03519535, -0.86076914],\n",
              "       [ 1.99464025, -1.04517619],\n",
              "       [ 1.85977129, -0.37934387],\n",
              "       [ 1.54200377,  0.90808604],\n",
              "       [ 1.50925493, -0.26460621],\n",
              "       [ 1.3690965 , -1.01583909],\n",
              "       [ 0.94680339,  0.02182097]])"
            ]
          },
          "metadata": {
            "tags": []
          },
          "execution_count": 23
        }
      ]
    },
    {
      "cell_type": "code",
      "metadata": {
        "id": "eAB48_19-_mM",
        "colab_type": "code",
        "colab": {
          "base_uri": "https://localhost:8080/",
          "height": 483
        },
        "outputId": "3499b5f1-a409-4fd9-9842-5c8b4a8ebbe4"
      },
      "source": [
        "for target_class in ('Iris-setosa', 'Iris-versicolor', 'Iris-virginica'):\n",
        "    sns.scatterplot (x_pca[Y == target_class, 0], \n",
        "                     x_pca[Y == target_class, 1])"
      ],
      "execution_count": null,
      "outputs": [
        {
          "output_type": "display_data",
          "data": {
            "image/png": "[encoded data removed]",
            "text/plain": [
              "<Figure size 864x576 with 1 Axes>"
            ]
          },
          "metadata": {
            "tags": []
          }
        }
      ]
    },
    {
      "cell_type": "code",
      "metadata": {
        "id": "1agRjHcoEcb5",
        "colab_type": "code",
        "colab": {}
      },
      "source": [
        ""
      ],
      "execution_count": null,
      "outputs": []
    },
    {
      "cell_type": "code",
      "metadata": {
        "id": "5NWNka_LEcsP",
        "colab_type": "code",
        "colab": {}
      },
      "source": [
        ""
      ],
      "execution_count": null,
      "outputs": []
    },
    {
      "cell_type": "code",
      "metadata": {
        "id": "W1Q7gD8xEcwD",
        "colab_type": "code",
        "colab": {}
      },
      "source": [
        "\n",
        "  \n",
        " "
      ],
      "execution_count": null,
      "outputs": []
    },
    {
      "cell_type": "markdown",
      "metadata": {
        "id": "4dWZHHnF-_mN",
        "colab_type": "text"
      },
      "source": [
        "# Can we classify after dimensionality reduction?"
      ]
    },
    {
      "cell_type": "markdown",
      "metadata": {
        "id": "mQf-vkhH-_mO",
        "colab_type": "text"
      },
      "source": [
        "https://towardsdatascience.com/dimensionality-reduction-does-pca-really-improve-classification-outcome-6e9ba21f0a32"
      ]
    },
    {
      "cell_type": "markdown",
      "metadata": {
        "id": "UcvsF1FG-_mO",
        "colab_type": "text"
      },
      "source": [
        "Explain here:\n",
        "dimensionality reduction is the common preprocessing step for classification and dimensionality reduction produce many benifit like it learn better classifier during training, learning time is fast. there is many benifit of dimensionality reduction because it remove noise from the dataset and help to make proper dataset so that accuracay will be good and can classify. if the dimensional is reduce than it will save time because less dimension require less time and it also save storage because if there is more dimension than it will accquire more space. if we perform dimensional reduction it will remove dataset having more correlation between them which improve the performance of the model. if we have more dimensional data than it will be difficult for visualization so during different pharse it will to difficult to select the next step but if the dimensional is reduce to minimuze than it will be easy for visualization so that next step will be clear which will prdocue better results but if the dataset is small and if we do dimensional reduction that some feature may be loss during reducion which may effect the accuracy and classification. \n",
        "\n",
        "from the below example we can see it we train model without PCA then the accuracy will be 95% but if we use PCA and reduce dimension from 4 to 2 we will have accuracy of 96%.\n"
      ]
    },
    {
      "cell_type": "markdown",
      "metadata": {
        "id": "msY6YSs5fNYL",
        "colab_type": "text"
      },
      "source": [
        "### Accuracy of iris dataset without dimensional reduction"
      ]
    },
    {
      "cell_type": "code",
      "metadata": {
        "id": "HFUD3edWiCPv",
        "colab_type": "code",
        "colab": {}
      },
      "source": [
        "X = iris.drop('target_class', 1)\n",
        "y = iris['target_class']"
      ],
      "execution_count": null,
      "outputs": []
    },
    {
      "cell_type": "code",
      "metadata": {
        "id": "cpYro-USBhks",
        "colab_type": "code",
        "colab": {}
      },
      "source": [
        "from sklearn.preprocessing import MinMaxScaler\n",
        "scaler = MinMaxScaler()\n",
        "X=scaler.fit_transform(X)"
      ],
      "execution_count": null,
      "outputs": []
    },
    {
      "cell_type": "code",
      "metadata": {
        "id": "qMC_soQZBt03",
        "colab_type": "code",
        "colab": {}
      },
      "source": [
        "from sklearn.model_selection import KFold, cross_val_score, train_test_split\n",
        "\n",
        "X_train, X_test, y_train, y_test = train_test_split(X, y, test_size = 0.2, random_state=20, stratify=y)"
      ],
      "execution_count": null,
      "outputs": []
    },
    {
      "cell_type": "code",
      "metadata": {
        "id": "PImMVd8RCdzV",
        "colab_type": "code",
        "colab": {
          "base_uri": "https://localhost:8080/",
          "height": 54
        },
        "outputId": "67450c06-a813-4b44-c765-23aca613528d"
      },
      "source": [
        " from sklearn.neighbors import KNeighborsClassifier\n",
        "knn = KNeighborsClassifier(7)\n",
        "knn.fit(X_train,y_train)\n",
        "print(\"Train score before PCA\",knn.score(X_train,y_train),\"%\")\n",
        "print(\"Test score before PCA\",knn.score(X_test,y_test),\"%\")"
      ],
      "execution_count": null,
      "outputs": [
        {
          "output_type": "stream",
          "text": [
            "Train score before PCA 0.957983193277311 %\n",
            "Test score before PCA 1.0 %\n"
          ],
          "name": "stdout"
        }
      ]
    },
    {
      "cell_type": "markdown",
      "metadata": {
        "id": "xe6TcGHbP0tb",
        "colab_type": "text"
      },
      "source": [
        "### Accuracy of model after PCA"
      ]
    },
    {
      "cell_type": "code",
      "metadata": {
        "id": "_pKTZXaGCggU",
        "colab_type": "code",
        "colab": {}
      },
      "source": [
        "from sklearn.decomposition import PCA\n",
        "pca = PCA()\n",
        "X_new = pca.fit_transform(X)"
      ],
      "execution_count": null,
      "outputs": []
    },
    {
      "cell_type": "code",
      "metadata": {
        "id": "_AHWcuXePbpX",
        "colab_type": "code",
        "colab": {
          "base_uri": "https://localhost:8080/",
          "height": 35
        },
        "outputId": "4056c2fc-3268-4997-8d23-5c36aee7de21"
      },
      "source": [
        "explained_variance=pca.explained_variance_ratio_\n",
        "explained_variance\n"
      ],
      "execution_count": null,
      "outputs": [
        {
          "output_type": "execute_result",
          "data": {
            "text/plain": [
              "array([0.84013148, 0.11820244, 0.03525228, 0.0064138 ])"
            ]
          },
          "metadata": {
            "tags": []
          },
          "execution_count": 41
        }
      ]
    },
    {
      "cell_type": "code",
      "metadata": {
        "id": "Z4ZftgQXQEry",
        "colab_type": "code",
        "colab": {
          "base_uri": "https://localhost:8080/",
          "height": 297
        },
        "outputId": "c5f52c16-d67d-4025-89d5-748ab5f87724"
      },
      "source": [
        "with plt.style.context('dark_background'):\n",
        "    plt.figure(figsize=(6, 4))\n",
        "\n",
        "    plt.bar(range(4), explained_variance, alpha=0.5, align='center',\n",
        "            label='individual explained variance')\n",
        "    plt.ylabel('Explained variance ratio')\n",
        "    plt.xlabel('Principal components')\n",
        "    plt.legend(loc='best')\n",
        "    plt.tight_layout()"
      ],
      "execution_count": null,
      "outputs": [
        {
          "output_type": "display_data",
          "data": {
            "image/png": "[encoded data removed]",
            "text/plain": [
              "<Figure size 432x288 with 1 Axes>"
            ]
          },
          "metadata": {
            "tags": []
          }
        }
      ]
    },
    {
      "cell_type": "code",
      "metadata": {
        "id": "1eFmw65FPePy",
        "colab_type": "code",
        "colab": {}
      },
      "source": [
        "pca=PCA(n_components=2)\n",
        "X_new=pca.fit_transform(X)"
      ],
      "execution_count": null,
      "outputs": []
    },
    {
      "cell_type": "code",
      "metadata": {
        "id": "eZqCJ6rCPhmy",
        "colab_type": "code",
        "colab": {}
      },
      "source": [
        "X_train_new, X_test_new, y_train, y_test = train_test_split(X_new, y, test_size = 0.2, random_state=20, stratify=y)\n"
      ],
      "execution_count": null,
      "outputs": []
    },
    {
      "cell_type": "code",
      "metadata": {
        "id": "_n6UjvzGPj0T",
        "colab_type": "code",
        "colab": {
          "base_uri": "https://localhost:8080/",
          "height": 54
        },
        "outputId": "ad3fd452-5f7f-450c-e589-b6839a82ae32"
      },
      "source": [
        "knn_pca = KNeighborsClassifier(7)\n",
        "knn_pca.fit(X_train_new,y_train)\n",
        "print(\"Train score after PCA\",knn_pca.score(X_train_new,y_train),\"%\")\n",
        "print(\"Test score after PCA\",knn_pca.score(X_test_new,y_test),\"%\")"
      ],
      "execution_count": null,
      "outputs": [
        {
          "output_type": "stream",
          "text": [
            "Train score after PCA 0.9663865546218487 %\n",
            "Test score after PCA 0.9 %\n"
          ],
          "name": "stdout"
        }
      ]
    },
    {
      "cell_type": "code",
      "metadata": {
        "id": "Icr90PLkPpm7",
        "colab_type": "code",
        "colab": {}
      },
      "source": [
        ""
      ],
      "execution_count": null,
      "outputs": []
    },
    {
      "cell_type": "code",
      "metadata": {
        "id": "zcqkrWl1zr_d",
        "colab_type": "code",
        "colab": {}
      },
      "source": [
        ""
      ],
      "execution_count": null,
      "outputs": []
    },
    {
      "cell_type": "code",
      "metadata": {
        "id": "LLxPhp9ozu9-",
        "colab_type": "code",
        "colab": {}
      },
      "source": [
        ""
      ],
      "execution_count": null,
      "outputs": []
    }
  ]
}